{
 "cells": [
  {
   "cell_type": "markdown",
   "metadata": {},
   "source": [
    "# Q-value iteration algorithm for the grid world in the experiment"
   ]
  },
  {
   "cell_type": "code",
   "execution_count": 1,
   "metadata": {},
   "outputs": [],
   "source": [
    "import numpy as np\n",
    "import matplotlib.pyplot as plt\n",
    "\n",
    "import matplotlib.patches as patches\n",
    "\n"
   ]
  },
  {
   "cell_type": "code",
   "execution_count": 2,
   "metadata": {},
   "outputs": [],
   "source": [
    "length = 5\n",
    "states=length**2\n",
    "actions=8\n",
    "\n",
    "\n",
    "# rewards\n",
    "Rbound = -1\n",
    "Rtarget = 5\n",
    "Rnormal = -1\n",
    "\n",
    "# transition probabilities for all of the 8 actions\n",
    "\n",
    "a =0.94\n",
    "ab = (1-a)/2\n",
    "b = 0.47\n",
    "c=(1-2*b)\n",
    "\n",
    "\n",
    "T=np.array([\n",
    "    [a,ab,0.0,0.0,0.0,0.0,0.0,ab], # action 0\n",
    "    [b,c,b,0.0,0.0,0.0,0.0,0.0], # action 1\n",
    "    [0.0,ab,a,ab,0.0,0.0,0.0,0.0], # action 2\n",
    "    [0.0,0.0,b,c,b,0.0,0.0,0.0], # action 3\n",
    "    [0.0,0.0,0.0,ab,a,ab,0.0,0.0], # action 4\n",
    "    [0.0,0.0,0.0,0.0,b,c,b,0.0], # action 5\n",
    "    [0.0,0.0,0.0,0.0,0.0,ab,a,ab], # action 6\n",
    "    [b,0.0,0.0,0.0,0.0,0.0,b,c]  # action 7\n",
    "])\n",
    "\n",
    "# mapping which state is accessible from a certain state, -1 is for boundary\n",
    "\n",
    "acc_state=[\n",
    "    [1,6,5,-1,-1,-1,-1,-1,-1],    # from 0\n",
    "    [2,7,6,5,0,-1,-1,-1],         # from 1\n",
    "    [3,8,7,6,1,-1,-1,-1],         # from 2\n",
    "    [4,9,8,7,2,-1,-1,-1],         # from 3\n",
    "    [-1,-1,9,8,3,-1,-1,-1],       # from 4\n",
    "    [6,11,10,-1,-1,-1,0,1],       # from 5\n",
    "    [7,12,11,10,5,0,1,2],         # from 6\n",
    "    [8,13,12,11,6,1,2,3],         # from 7\n",
    "    [9,14,13,12,7,2,3,4],         # from 8\n",
    "    [-1,-1,14,13,8,3,4,-1],       # from 9\n",
    "    [11,16,15,-1,-1,-1,5,6],      # from 10\n",
    "    [12,17,16,15,10,5,6,7],       # from 11\n",
    "    [13,18,17,16,11,6,7,8],       # from 12\n",
    "    [14,19,18,17,12,7,8,9],       # from 13\n",
    "    [-1,-1,19,18,13,8,9,-1],      # from 14\n",
    "    [16,21,20,-1,-1,-1,10,11],    # from 15\n",
    "    [17,22,21,20,15,10,11,12],    # from 16\n",
    "    [18,23,22,21,16,11,12,13],    # from 17\n",
    "    [19,24,23,22,17,12,13,14],    # from 18\n",
    "    [-1,-1,24,23,18,13,14,-1],    # from 19\n",
    "    [21,-1,-1,-1,-1,-1,15,16],    # from 20\n",
    "    [22,-1,-1,-1,20,15,16,17],    # from 21\n",
    "    [23,-1,-1,-1,21,16,17,18],    # from 22\n",
    "    [24,-1,-1,-1,22,17,18,19],    # from 23\n",
    "    [-1,-1,-1,-1,23,18,19,-1]     # from 24\n",
    "]"
   ]
  },
  {
   "cell_type": "markdown",
   "metadata": {},
   "source": [
    "## initialize the Q-matrix"
   ]
  },
  {
   "cell_type": "code",
   "execution_count": 3,
   "metadata": {},
   "outputs": [],
   "source": [
    "Q=np.full((25,8),0.0)"
   ]
  },
  {
   "cell_type": "code",
   "execution_count": 4,
   "metadata": {},
   "outputs": [],
   "source": [
    "for i in range(states):\n",
    "    for j in range(actions):        \n",
    "        Q[i,j]=np.random.rand()-0.5"
   ]
  },
  {
   "cell_type": "markdown",
   "metadata": {},
   "source": [
    "## do the Q-matrix value iteration"
   ]
  },
  {
   "cell_type": "code",
   "execution_count": 5,
   "metadata": {},
   "outputs": [
    {
     "name": "stdout",
     "output_type": "stream",
     "text": [
      "114.7636663732932\n",
      "89.4125954831398\n",
      "5.11309374485754\n",
      "-40.037766932477545\n",
      "-39.37162348216722\n",
      "-14.516368242987284\n",
      "-2.453821668238308\n",
      "-0.48376819725391546\n",
      "-0.018209377300460287\n",
      "-0.0005980558998777627\n",
      "-1.8218081861282043e-05\n",
      "-5.29987727523884e-07\n",
      "-1.49457997714042e-08\n",
      "-4.121369426290933e-10\n",
      "-1.1186412907093768e-11\n",
      "-3.0953017926549364e-13\n",
      "-7.327471962526033e-15\n"
     ]
    }
   ],
   "source": [
    "gamma=0.8\n",
    "n_iterations=100\n",
    "qsum=[]\n",
    "\n",
    "for iteration in range(n_iterations):\n",
    "    Q_prev=Q.copy()\n",
    "    for s in range(states-1):\n",
    "        for a in range(actions):\n",
    "                tmp=0\n",
    "                for i in range(actions): # sum over all s_prime\n",
    "                    if acc_state[s][i]==-1:                        \n",
    "                        tmp=tmp+T[a,i]*Rbound                       \n",
    "                    else:        \n",
    "                        if acc_state[s][i]==24: \n",
    "                            tmp=tmp+T[a,i]*Rtarget\n",
    "                        else:                            \n",
    "                            tmp=tmp+T[a,i]*(Rnormal + gamma*np.max(Q_prev[acc_state[s][i]]))\n",
    "                Q[s,a]=tmp    \n",
    "    if np.sum(Q_prev-Q) != 0:           # show convergence\n",
    "       print(np.sum(Q_prev-Q))\n",
    "       qsum.append(np.sum(Q_prev))\n"
   ]
  },
  {
   "cell_type": "markdown",
   "metadata": {},
   "source": [
    "## get the policy"
   ]
  },
  {
   "cell_type": "code",
   "execution_count": 6,
   "metadata": {},
   "outputs": [],
   "source": [
    "policy=np.argmax(Q,axis=1)"
   ]
  },
  {
   "cell_type": "markdown",
   "metadata": {},
   "source": [
    "## plot Q-matrix entries for 1 state"
   ]
  },
  {
   "cell_type": "code",
   "execution_count": 7,
   "metadata": {},
   "outputs": [],
   "source": [
    "image=np.zeros([15,15])"
   ]
  },
  {
   "cell_type": "code",
   "execution_count": 8,
   "metadata": {},
   "outputs": [],
   "source": [
    "for i in range(5):\n",
    "    for j in range(5):\n",
    "        state=i*5+j\n",
    "        im=np.zeros([3,3])\n",
    "        im[2,0]=Q[state,3]\n",
    "        im[1,0]=Q[state,4]\n",
    "        im[0,0]=Q[state,5]\n",
    "        im[2,1]=Q[state,2]\n",
    "        im[0,1]=Q[state,6]\n",
    "        im[2,2]=Q[state,1]\n",
    "        im[1,2]=Q[state,0]\n",
    "        im[0,2]=Q[state,7]\n",
    "        \n",
    "        image[i*3:i*3+3,j*3:j*3+3]=im"
   ]
  },
  {
   "cell_type": "code",
   "execution_count": 9,
   "metadata": {},
   "outputs": [
    {
     "name": "stdout",
     "output_type": "stream",
     "text": [
      "-2.267319703986375 4.754098360655737\n"
     ]
    }
   ],
   "source": [
    "print(image.min(),image.max())"
   ]
  },
  {
   "cell_type": "code",
   "execution_count": 10,
   "metadata": {},
   "outputs": [],
   "source": [
    "#plt.imshow(image,cmap='gray')"
   ]
  },
  {
   "cell_type": "code",
   "execution_count": 11,
   "metadata": {},
   "outputs": [
    {
     "name": "stdout",
     "output_type": "stream",
     "text": [
      "[ 1.12805855  1.32650454  1.35377049  0.22832548 -0.8682384  -0.9486302\n",
      " -0.93153283  0.07585799]\n"
     ]
    },
    {
     "data": {
      "image/png": "[encoded data removed]",
      "text/plain": [
       "<Figure size 432x288 with 1 Axes>"
      ]
     },
     "metadata": {
      "needs_background": "light"
     },
     "output_type": "display_data"
    }
   ],
   "source": [
    "state=13\n",
    "im=np.zeros(9)\n",
    "im[0]=Q[state,3]\n",
    "im[1]=Q[state,2]\n",
    "im[2]=Q[state,1]\n",
    "im[3]=Q[state,4]\n",
    "im[5]=Q[state,0]\n",
    "im[6]=Q[state,5]\n",
    "im[7]=Q[state,6]\n",
    "im[8]=Q[state,7]\n",
    "\n",
    "plt.imshow(im.reshape(3,3),cmap='gray')\n",
    "\n",
    "print(Q[state])"
   ]
  },
  {
   "cell_type": "markdown",
   "metadata": {},
   "source": [
    "## plot the policy"
   ]
  },
  {
   "cell_type": "code",
   "execution_count": 12,
   "metadata": {},
   "outputs": [
    {
     "data": {
      "image/png": "[encoded data removed]",
      "text/plain": [
       "<Figure size 432x432 with 1 Axes>"
      ]
     },
     "metadata": {
      "needs_background": "light"
     },
     "output_type": "display_data"
    }
   ],
   "source": [
    "f,ax=plt.subplots(1,figsize=(6,6))\n",
    "\n",
    "dd={'0':[2,0],'1':[np.sqrt(2),np.sqrt(2)],'2':[0,2],'3':[-np.sqrt(2),np.sqrt(2)],'4':[-2,0],'5':[-np.sqrt(2),-np.sqrt(2)],'6':[0,-2],'7':[np.sqrt(2),-np.sqrt(2)]}\n",
    "f=plt.gca()\n",
    "i=0\n",
    "for y in range(3,30,6):\n",
    "    for x in range(3,30,6):\n",
    "        if policy[i]!=-1:\n",
    "            vec=dd[str(policy[i])]*2        \n",
    "            if i!=24:                \n",
    "                plt.arrow(x-vec[0]/2, y-vec[1]/2, vec[0], vec[1], fc=\"k\", ec=\"k\",head_width=0.6, head_length=0.8, width=0.01 ,alpha=0.5)\n",
    "            else:\n",
    "                rect=patches.Rectangle((x-3,y-3), 6,6,color='green',alpha=0.2)\n",
    "                ax.add_patch(rect)                \n",
    "            \n",
    "        else:\n",
    "            rect=patches.Rectangle((x-3,y-3), 6,6,color='red',alpha=0.2)\n",
    "            ax.add_patch(rect)\n",
    "        i=i+1\n",
    "        \n",
    "plt.xticks(np.arange(0, 31, step=6))\n",
    "plt.yticks(np.arange(0, 31, step=6))\n",
    "plt.xlim(0,30)\n",
    "plt.ylim(0,30)\n",
    "plt.grid(lw=1,color='k',ls='--')  \n",
    "\n",
    "f.axes.xaxis.set_ticklabels([])\n",
    "f.axes.yaxis.set_ticklabels([])\n",
    "plt.show()        "
   ]
  },
  {
   "cell_type": "code",
   "execution_count": 13,
   "metadata": {},
   "outputs": [
    {
     "data": {
      "text/plain": [
       "array([-0.22946457, -0.61575639, -1.        , -1.        , -1.        ,\n",
       "       -1.35025635, -1.69846448, -0.96191632])"
      ]
     },
     "execution_count": 13,
     "metadata": {},
     "output_type": "execute_result"
    }
   ],
   "source": [
    "Q[20]"
   ]
  },
  {
   "cell_type": "code",
   "execution_count": null,
   "metadata": {},
   "outputs": [],
   "source": []
  }
 ],
 "metadata": {
  "kernelspec": {
   "display_name": "Python 3",
   "language": "python",
   "name": "python3"
  },
  "language_info": {
   "codemirror_mode": {
    "name": "ipython",
    "version": 3
   },
   "file_extension": ".py",
   "mimetype": "text/x-python",
   "name": "python",
   "nbconvert_exporter": "python",
   "pygments_lexer": "ipython3",
   "version": "3.8.5"
  },
  "widgets": {
   "application/vnd.jupyter.widget-state+json": {
    "state": {},
    "version_major": 2,
    "version_minor": 0
   }
  }
 },
 "nbformat": 4,
 "nbformat_minor": 4
}
